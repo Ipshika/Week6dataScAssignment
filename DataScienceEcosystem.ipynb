{
 "cells": [
  {
   "cell_type": "markdown",
   "id": "3c4564aa",
   "metadata": {},
   "source": [
    "# Data Science Tools and Ecosystem "
   ]
  },
  {
   "cell_type": "markdown",
   "id": "7dfbf476",
   "metadata": {},
   "source": [
    "In this notebook, Data Science Tools and Ecosystem are summarized."
   ]
  },
  {
   "cell_type": "markdown",
   "id": "b9146534",
   "metadata": {},
   "source": [
    "Some of the popular languages that Data Scientists use are:"
   ]
  },
  {
   "cell_type": "markdown",
   "id": "33d2d90b",
   "metadata": {},
   "source": [
    "<ol>\n",
    "    <li>Python</li>\n",
    "    <li>Scala</li>\n",
    "    <li>Julia</li>\n",
    "</ol>"
   ]
  },
  {
   "cell_type": "markdown",
   "id": "3425cb71",
   "metadata": {},
   "source": [
    "Some of the commonly used libraries used by Data Scientists include:"
   ]
  },
  {
   "cell_type": "markdown",
   "id": "c16b5a6b",
   "metadata": {},
   "source": [
    "<ol>\n",
    "   <li>Sklearn</li>\n",
    "    <li>TensorFlow</li>\n",
    "    <li>Stdlib</li>\n",
    "</ol>"
   ]
  },
  {
   "cell_type": "markdown",
   "id": "db3517aa",
   "metadata": {},
   "source": [
    "Table::"
   ]
  },
  {
   "cell_type": "markdown",
   "id": "25d939b2",
   "metadata": {},
   "source": [
    "|Data Science Tools|\n",
    "|------------------|\n",
    "|R Studio----------|\n",
    "|Jupyter Notebook--|\n",
    "|TensorFlow--------|"
   ]
  },
  {
   "cell_type": "markdown",
   "id": "82aed941",
   "metadata": {},
   "source": [
    "Below are a few examples of evaluating arithmetic expressions in Python"
   ]
  },
  {
   "cell_type": "code",
   "execution_count": 12,
   "id": "24c7fccb",
   "metadata": {},
   "outputs": [
    {
     "name": "stdout",
     "output_type": "stream",
     "text": [
      "17\n"
     ]
    }
   ],
   "source": [
    "'''This a simple arithmetic expression to mutiply then add integers'''\n",
    "b=(3*4)+5\n",
    "print(b)"
   ]
  },
  {
   "cell_type": "code",
   "execution_count": 13,
   "id": "bf82ea9a",
   "metadata": {},
   "outputs": [
    {
     "name": "stdout",
     "output_type": "stream",
     "text": [
      "2.0\n"
     ]
    }
   ],
   "source": [
    "'''This will convert 200 minutes to hours by diving by 60'''\n",
    "c=120/60\n",
    "print (c)"
   ]
  },
  {
   "cell_type": "markdown",
   "id": "8b306e7a",
   "metadata": {},
   "source": [
    "# Objectives: "
   ]
  },
  {
   "cell_type": "markdown",
   "id": "f1618a23",
   "metadata": {},
   "source": [
    "- List popular languages for Data Science\n",
    "- Popular languages used by Data scientists\n",
    "- Commonly used libraries in Data Science\n",
    "- Carrying out arithmetic operations using Python"
   ]
  },
  {
   "cell_type": "markdown",
   "id": "3c640302",
   "metadata": {},
   "source": [
    "# Author\n",
    "Ipshika Samadder"
   ]
  }
 ],
 "metadata": {
  "kernelspec": {
   "display_name": "Python 3 (ipykernel)",
   "language": "python",
   "name": "python3"
  },
  "language_info": {
   "codemirror_mode": {
    "name": "ipython",
    "version": 3
   },
   "file_extension": ".py",
   "mimetype": "text/x-python",
   "name": "python",
   "nbconvert_exporter": "python",
   "pygments_lexer": "ipython3",
   "version": "3.10.9"
  }
 },
 "nbformat": 4,
 "nbformat_minor": 5
}
